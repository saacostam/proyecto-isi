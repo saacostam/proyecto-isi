{
  "nbformat": 4,
  "nbformat_minor": 0,
  "metadata": {
    "colab": {
      "name": "Proyecto: Introducción a los Sistemas Inteligentes 2022-I.ipynb",
      "provenance": [],
      "collapsed_sections": []
    },
    "kernelspec": {
      "name": "python3",
      "display_name": "Python 3"
    },
    "language_info": {
      "name": "python"
    }
  },
  "cells": [
    {
      "cell_type": "markdown",
      "source": [
        "# Proyecto: Introducción a los Sistemas Inteligentes 2022-I\n",
        "## Clasificación de Canciones en Géneros Musicales\n",
        "<ul>\n",
        "<li><h4>Santiago Acosta Meza</h4></li>\n",
        "</ul>"
      ],
      "metadata": {
        "id": "E4YenzjMDrEa"
      }
    },
    {
      "cell_type": "code",
      "source": [
        "from sklearn.linear_model import LogisticRegression\n",
        "from sklearn.neighbors import KNeighborsClassifier\n",
        "from sklearn.tree import DecisionTreeClassifier\n",
        "from sklearn.model_selection import train_test_split, GridSearchCV, cross_val_score, KFold, StratifiedKFold\n",
        "from sklearn.naive_bayes import GaussianNB\n",
        "from sklearn.ensemble import BaggingClassifier\n",
        "import pandas as pd\n",
        "import matplotlib.pyplot as plt\n",
        "import numpy as np\n",
        "import seaborn as sn\n",
        "from sklearn.metrics import confusion_matrix, classification_report\n",
        "from imblearn.under_sampling import RandomUnderSampler\n",
        "\n",
        "def normalize(df):\n",
        "    return (df-df.min())/(df.max()-df.min())"
      ],
      "metadata": {
        "id": "M8LFIVCsT6XM"
      },
      "execution_count": null,
      "outputs": []
    },
    {
      "cell_type": "markdown",
      "source": [
        "# Partición de los Datos"
      ],
      "metadata": {
        "id": "PXH7TbBeDw8p"
      }
    },
    {
      "cell_type": "markdown",
      "source": [
        "En clase se discutio la posibilidad de eliminar la clase \"Children’s Music\" debido a su baja frecuencia.\n",
        "\n",
        "Asimismo, mientras se buscan los hiperparametros, se realizara undersampling de las clases mayoritarias para lograr el balance de clases. Al finalizar el undersampling, se cuenta con 100.000 observaciones aproximadamente para 24 clases totales."
      ],
      "metadata": {
        "id": "A5XqXTMEY3Gw"
      }
    },
    {
      "cell_type": "code",
      "source": [
        "df = pd.read_csv(\"cleanSpotifyFeatureWithRandomDuplicate.csv\")\n",
        "\n",
        "df = df.loc[:, ~df.columns.str.contains('^Unnamed')]\n",
        "df = df[df['genre']!='Children’s Music']\n",
        "\n",
        "X = df.drop(columns=['genre'])\n",
        "y = df['genre']\n",
        "\n",
        "under_sampler = RandomUnderSampler(random_state=42)\n",
        "X, y = under_sampler.fit_resample(X, y)\n",
        "\n",
        "X_train, X_test, y_train, y_test = train_test_split(X, y,\n",
        "                                                    test_size=0.3, \n",
        "                                                    random_state=11,\n",
        "                                                    stratify=y)\n",
        "\n",
        "normalized_X_train = normalize(X_train)\n",
        "normalized_X_test = normalize(X_test)\n",
        "\n",
        "tempDf = pd.concat([X,y])\n",
        "\n",
        "print(X.shape)\n",
        "print(y.shape)\n",
        "\n",
        "sn.countplot(y=y, data=tempDf)"
      ],
      "metadata": {
        "id": "32mvEagA8Eb5",
        "colab": {
          "base_uri": "https://localhost:8080/",
          "height": 331
        },
        "outputId": "65d7aa11-3434-48d8-a32a-f59252d6eef6"
      },
      "execution_count": null,
      "outputs": [
        {
          "output_type": "stream",
          "name": "stdout",
          "text": [
            "(99624, 14)\n",
            "(99624,)\n"
          ]
        },
        {
          "output_type": "execute_result",
          "data": {
            "text/plain": [
              "<matplotlib.axes._subplots.AxesSubplot at 0x7fd5c8216d10>"
            ]
          },
          "metadata": {},
          "execution_count": 11
        },
        {
          "output_type": "display_data",
          "data": {
            "text/plain": [
              "<Figure size 432x288 with 1 Axes>"
            ],
            "image/png": "[encoded data removed]"
          },
          "metadata": {
            "needs_background": "light"
          }
        }
      ]
    },
    {
      "cell_type": "code",
      "source": [
        "classes = np.array(y.unique())\n",
        "print(X.shape)"
      ],
      "metadata": {
        "id": "79nUiHI38HwP",
        "colab": {
          "base_uri": "https://localhost:8080/"
        },
        "outputId": "0f56f1b9-1837-4a20-88e9-a6f73a07005b"
      },
      "execution_count": null,
      "outputs": [
        {
          "output_type": "stream",
          "name": "stdout",
          "text": [
            "(99624, 14)\n"
          ]
        }
      ]
    },
    {
      "cell_type": "markdown",
      "source": [
        "# Grid Search\n",
        "### K-neighbors\n",
        "Aplicación de grid search a clasificador k-vecinos"
      ],
      "metadata": {
        "id": "wL5OT3BS-4hP"
      }
    },
    {
      "cell_type": "code",
      "source": [
        "grid = [i for i in range(1, 10)]\n",
        "param_grid = {'n_neighbors': [2**i-1 for i in grid]}\n",
        "\n",
        "param_grid\n",
        "\n",
        "clf = GridSearchCV(KNeighborsClassifier(), param_grid=param_grid, verbose=1, return_train_score=True)\n",
        "clf.fit(normalized_X_train, y_train)\n",
        "\n",
        "cv_results = pd.DataFrame(clf.cv_results_)\n",
        "cv_results = cv_results[['param_n_neighbors', 'mean_test_score']]\n",
        "n_neighbors = cv_results['param_n_neighbors']\n",
        "cv_results.sort_values(by='mean_test_score', ascending=False).head(9)\n",
        "mean_test_score_train = cv_results['mean_test_score']\n",
        "\n",
        "plt.plot(param_grid['n_neighbors'], mean_test_score_train)\n",
        "\n",
        "print('Mejores parametros', clf.best_params_)\n",
        "print('Mejor calificacion', clf.best_score_)\n",
        "\n",
        "preds=clf.best_estimator_.predict(normalized_X_test)\n",
        "print(classification_report(y_test, preds))\n",
        "\n",
        "print(\"Entrenamiento\", clf.score(normalized_X_train, y_train))\n",
        "print(\"Validacion\", clf.score(normalized_X_test, y_test))"
      ],
      "metadata": {
        "colab": {
          "base_uri": "https://localhost:8080/",
          "height": 892
        },
        "id": "bU4HXyeb--V_",
        "outputId": "eef856d3-d5e8-464c-ab4d-48939b56e053"
      },
      "execution_count": null,
      "outputs": [
        {
          "output_type": "stream",
          "name": "stdout",
          "text": [
            "Fitting 5 folds for each of 9 candidates, totalling 45 fits\n",
            "Mejores parametros {'n_neighbors': 63}\n",
            "Mejor calificacion 0.37722272027030757\n",
            "              precision    recall  f1-score   support\n",
            "\n",
            " Alternative       0.28      0.27      0.27      1245\n",
            "       Anime       0.44      0.27      0.33      1246\n",
            "       Blues       0.33      0.20      0.25      1245\n",
            "   Classical       0.50      0.46      0.48      1245\n",
            "      Comedy       0.94      0.93      0.94      1245\n",
            "     Country       0.23      0.45      0.30      1245\n",
            "       Dance       0.21      0.26      0.23      1245\n",
            "  Electronic       0.42      0.46      0.44      1246\n",
            "        Folk       0.23      0.29      0.26      1245\n",
            "     Hip-Hop       0.31      0.39      0.34      1245\n",
            "       Indie       0.16      0.07      0.10      1245\n",
            "        Jazz       0.31      0.29      0.30      1245\n",
            "       Movie       0.68      0.39      0.50      1246\n",
            "       Opera       0.57      0.83      0.67      1246\n",
            "         Pop       0.38      0.29      0.33      1245\n",
            "         R&B       0.18      0.19      0.18      1245\n",
            "         Rap       0.29      0.23      0.25      1246\n",
            "      Reggae       0.36      0.35      0.36      1246\n",
            "   Reggaeton       0.41      0.53      0.46      1245\n",
            "        Rock       0.34      0.29      0.31      1245\n",
            "         Ska       0.45      0.46      0.46      1245\n",
            "        Soul       0.20      0.10      0.14      1246\n",
            "  Soundtrack       0.51      0.71      0.59      1245\n",
            "       World       0.39      0.36      0.37      1246\n",
            "\n",
            "    accuracy                           0.38     29888\n",
            "   macro avg       0.38      0.38      0.37     29888\n",
            "weighted avg       0.38      0.38      0.37     29888\n",
            "\n",
            "Entrenamiento 0.41208271194218193\n",
            "Validacion 0.3784127408993576\n"
          ]
        },
        {
          "output_type": "display_data",
          "data": {
            "text/plain": [
              "<Figure size 432x288 with 1 Axes>"
            ],
            "image/png": "[encoded data removed]"
          },
          "metadata": {
            "needs_background": "light"
          }
        }
      ]
    },
    {
      "cell_type": "markdown",
      "source": [
        "## Conclusión\n",
        "\n",
        "Con 31 y 63 vecinos se obtienen resultados similares, por lo cual se escogera el modelo que considera 31 vecinos debido a su menor complejidad.\n",
        "\n",
        "### K-neighbors\n",
        "K = 31\n",
        "\n",
        "Training_score = 0.41\n",
        "\n",
        "Test_score = 0.36"
      ],
      "metadata": {
        "id": "61lzyBaXR_gL"
      }
    },
    {
      "cell_type": "markdown",
      "source": [
        "<hr></hr>\n",
        "\n",
        "# Grid Search\n",
        "### Logistic Regression\n",
        "Aplicación de grid search a clasificador Logistic Regression"
      ],
      "metadata": {
        "id": "li6J3l_OSaFz"
      }
    },
    {
      "cell_type": "code",
      "source": [
        "def normalize(df):\n",
        "    return (df-df.min())/(df.max()-df.min())\n",
        "\n",
        "normalized_X_train = normalize(X_train)\n",
        "normalized_X_test = normalize(X_test)"
      ],
      "metadata": {
        "id": "DUvM-SUVqzE-"
      },
      "execution_count": null,
      "outputs": []
    },
    {
      "cell_type": "code",
      "source": [
        "param_grid = {'multi_class': ['ovr', 'multinomial']}\n",
        "\n",
        "clf = GridSearchCV(LogisticRegression(max_iter=100), param_grid=param_grid, verbose=1, return_train_score=True)\n",
        "clf.fit(normalized_X_train, y_train)"
      ],
      "metadata": {
        "id": "NVmgxlpMSMgL"
      },
      "execution_count": null,
      "outputs": []
    },
    {
      "cell_type": "code",
      "source": [
        "cv_results = pd.DataFrame(clf.cv_results_)\n",
        "\n",
        "cv_results = cv_results[['param_multi_class', 'mean_test_score']]\n",
        "\n",
        "multi_class = cv_results['param_multi_class']\n",
        "mean_test_score_train = cv_results['mean_test_score']\n",
        "\n",
        "print('Mejores Parametros', clf.best_params_)\n",
        "print('Mejor Puntaje de Entrenamiento', clf.best_score_)\n",
        "print('Puntaje de Validación', clf.score(normalized_X_test, y_test))"
      ],
      "metadata": {
        "colab": {
          "base_uri": "https://localhost:8080/"
        },
        "id": "M7gKFmhdwA_u",
        "outputId": "05040e6f-99c3-4107-ae7b-dc31dc455bf0"
      },
      "execution_count": null,
      "outputs": [
        {
          "output_type": "stream",
          "name": "stdout",
          "text": [
            "Mejores Parametros {'multi_class': 'multinomial'}\n",
            "Mejor Puntaje de Entrenamiento 0.40746529083256294\n",
            "Puntaje de Validación 0.40330567451820126\n"
          ]
        }
      ]
    },
    {
      "cell_type": "markdown",
      "source": [
        "## Conclusión\n",
        "### Logistic Regresssion\n",
        "\n",
        "Se hizo el entrenamiento con y sin normalización; De esta manera, el entrenamiento con normalización dio mejores resultados. \n",
        "\n",
        "Asimismo, se consideró la estrategia multi-clase que se debía tomar para la discriminación de datos mediante Grid Search. La estrategia multinomial fue la que mejores resultados arrojo.\n",
        "\n",
        "**Con Normalización**\n",
        "\n",
        "multi_class = 'multinomial'\n",
        "\n",
        "Training_score = 0.41\n",
        "\n",
        "Test_score = 0.40\n",
        "\n",
        "<hr></hr>"
      ],
      "metadata": {
        "id": "K5M1Kt1KXiYs"
      }
    },
    {
      "cell_type": "markdown",
      "source": [
        "# Grid Search\n",
        "### Arbol de Desición\n",
        "Aplicación de grid search a clasificador Arbol de Desición"
      ],
      "metadata": {
        "id": "JQeA8l2QX1DL"
      }
    },
    {
      "cell_type": "code",
      "source": [
        "grid = [i for i in range(1, 12)]\n",
        "# param_grid = {'max_depth':[2**i for i in grid], 'max_leaf_nodes':[2**i for i in grid] 'criterion': ['gini', 'entropy']}\n",
        "param_grid = {'max_depth':[2**i for i in grid], 'max_leaf_nodes':[2**i for i in grid]}\n",
        "\n",
        "clf = GridSearchCV(DecisionTreeClassifier(criterion='entropy'), param_grid=param_grid, verbose=1, return_train_score=True)\n",
        "clf.fit(X_train, y_train)\n",
        "\n",
        "cv_results = pd.DataFrame(clf.cv_results_)\n",
        "\n",
        "cv_results = cv_results[['param_max_depth','param_max_leaf_nodes',  'mean_test_score']]\n",
        "\n",
        "max_depth = cv_results['param_max_depth']\n",
        "max_leaf_nodes = cv_results['param_max_leaf_nodes']\n",
        "mean_test_score_train = cv_results['mean_test_score']\n",
        "\n",
        "print('Mejores Parametros', clf.best_params_)\n",
        "print('Mejor Puntaje de Entrenamiento', clf.best_score_)\n",
        "print('Puntaje de Validación', clf.score(X_test, y_test))"
      ],
      "metadata": {
        "colab": {
          "base_uri": "https://localhost:8080/"
        },
        "id": "WnliC7DNiRgc",
        "outputId": "84543159-8397-48ab-dfb9-b46e7765ec0e"
      },
      "execution_count": null,
      "outputs": [
        {
          "output_type": "stream",
          "name": "stdout",
          "text": [
            "Fitting 5 folds for each of 121 candidates, totalling 605 fits\n",
            "Mejores Parametros {'max_depth': 16, 'max_leaf_nodes': 1024}\n",
            "Mejor Puntaje de Entrenamiento 0.40793846050276483\n",
            "Puntaje de Validación 0.4131423982869379\n"
          ]
        }
      ]
    },
    {
      "cell_type": "markdown",
      "source": [
        "## Conclusión\n",
        "\n",
        "Se considerarón diferentes criterios, profundidades maximas y cantidad maxima de nodos hoja, mediante Grid Search\n",
        "\n",
        "### Arbol de Desición\n",
        "criterion = 'entropy'\n",
        "\n",
        "max_depth = 16\n",
        "\n",
        "max_leaf_nodes = 512\n",
        "\n",
        "Training_score = 0.39\n",
        "\n",
        "Test_score = 0.39\n",
        "\n",
        "<hr></hr>"
      ],
      "metadata": {
        "id": "P53BVX_nf6N0"
      }
    },
    {
      "cell_type": "markdown",
      "source": [
        "# Grid Search\n",
        "### Naive Bayes\n",
        "Aplicación de grid search a clasificador Naive Bayes"
      ],
      "metadata": {
        "id": "vucrtgQblHtm"
      }
    },
    {
      "cell_type": "code",
      "source": [
        "params_NB = {'var_smoothing': np.logspace(0,-9, num=100)}\n",
        "\n",
        "clf = GridSearchCV(GaussianNB(), param_grid=params_NB, verbose=1, return_train_score=True)\n",
        "clf.fit(X_train, y_train)\n",
        "\n",
        "cv_results = pd.DataFrame(clf.cv_results_)"
      ],
      "metadata": {
        "id": "PjOpwzdaj6nK",
        "colab": {
          "base_uri": "https://localhost:8080/"
        },
        "outputId": "337a720b-1ab4-40a7-d1f5-5468d6d57d54"
      },
      "execution_count": null,
      "outputs": [
        {
          "output_type": "stream",
          "name": "stdout",
          "text": [
            "Fitting 5 folds for each of 100 candidates, totalling 500 fits\n"
          ]
        }
      ]
    },
    {
      "cell_type": "code",
      "source": [
        "cv_results = cv_results[['param_var_smoothing',  'mean_test_score']]\n",
        "\n",
        "var_smoothing = cv_results['param_var_smoothing']\n",
        "mean_test_score_train = cv_results['mean_test_score']\n",
        "\n",
        "print('Mejores Parametros', clf.best_params_)\n",
        "print('Mejor Puntaje de Entrenamiento', clf.best_score_)\n",
        "print('Puntaje de Validación', clf.score(X_test, y_test))"
      ],
      "metadata": {
        "colab": {
          "base_uri": "https://localhost:8080/"
        },
        "id": "7h3ZvY9MoulS",
        "outputId": "91ed21d0-fd05-47b3-8bf9-f2f9cfd26869"
      },
      "execution_count": null,
      "outputs": [
        {
          "output_type": "stream",
          "name": "stdout",
          "text": [
            "Mejores Parametros {'var_smoothing': 1e-09}\n",
            "Mejor Puntaje de Entrenamiento 0.24971321642099187\n",
            "Puntaje de Validación 0.25016729122055675\n"
          ]
        }
      ]
    },
    {
      "cell_type": "markdown",
      "source": [
        "## Conclusión\n",
        "\n",
        "Se busca el mejor valor para el híper parámetro \"var_smoothing\" del clasificador Bayesiano, mediante Grid Search.\n",
        "\n",
        "### Naive Bayes\n",
        "var_smoothing = 1e-09\n",
        "\n",
        "Training_score = 0.25\n",
        "\n",
        "Test_score = 0.25\n",
        "\n",
        "<hr></hr>"
      ],
      "metadata": {
        "id": "8MjRdSOOo79p"
      }
    },
    {
      "cell_type": "markdown",
      "source": [
        "# Grid Search\n",
        "### Random Forest\n",
        "Aplicación de grid search a clasificador Random Forest"
      ],
      "metadata": {
        "id": "Iz_YBm30wrJv"
      }
    },
    {
      "cell_type": "code",
      "source": [
        "grid = [i for i in range(1, 15)]\n",
        "# param_grid = {'n_estimators':[64*2*i for i in grid], 'max_samples':[48*2*i for i in grid], 'max_features':[3*2*i for i in grid]}\n",
        "# param_grid = {'n_estimators':[50*(5+i) for i in grid], 'max_samples':[50*(4+i) for i in grid]}\n",
        "param_grid = {'max_features':[i for i in grid]}\n",
        "\n",
        "clf = GridSearchCV(BaggingClassifier(max_samples=192, n_estimators=256), param_grid=param_grid, verbose=1, return_train_score=True)\n",
        "clf.fit(X_train, y_train)\n",
        "\n",
        "cv_results = pd.DataFrame(clf.cv_results_)\n",
        "\n",
        "cv_results = cv_results[['mean_test_score']]\n",
        "\n",
        "mean_test_score_train = cv_results['mean_test_score']\n",
        "\n",
        "print('Mejores Parametros', clf.best_params_)\n",
        "print('Mejor Puntaje de Entrenamiento', clf.best_score_)\n",
        "print('Puntaje de Validación', clf.score(X_test, y_test))"
      ],
      "metadata": {
        "colab": {
          "base_uri": "https://localhost:8080/"
        },
        "id": "f2sK7IEswu7F",
        "outputId": "e4c8c254-e346-43be-86e8-a9cb7f2f0703"
      },
      "execution_count": null,
      "outputs": [
        {
          "output_type": "stream",
          "name": "stdout",
          "text": [
            "Fitting 5 folds for each of 14 candidates, totalling 70 fits\n",
            "Mejores Parametros {'max_features': 11}\n",
            "Mejor Puntaje de Entrenamiento 0.4330044499035422\n",
            "Puntaje de Validación 0.43816916488222696\n"
          ]
        }
      ]
    },
    {
      "cell_type": "markdown",
      "source": [
        "## Conclusión\n",
        "\n",
        "Se estudiaron los híper parámetros \"max_samples\" y \"max_features\", pero no tenían incidencia en el rendimiento del clasificador.\n",
        "\n",
        "Finalmente, se estudió el valor de \"max_features\" y se obtuvo que 11 era el mejor valor para este híper parámetro.\n",
        "\n",
        "### Random Forest\n",
        "max_features = 11\n",
        "\n",
        "Training_score = 0.43\n",
        "\n",
        "Test_score = 0.44\n",
        "\n",
        "<hr></hr>"
      ],
      "metadata": {
        "id": "I01LD9GVAov_"
      }
    },
    {
      "cell_type": "markdown",
      "source": [
        "******\n",
        "******\n",
        "******\n",
        "\n",
        "# Importancia de Atributos\n",
        "\n",
        "Ahora se va a estudiar la importancia de los parámetros para el clasificador de árbol de decisión, con el propósito de eliminar los parámetros poco importantes."
      ],
      "metadata": {
        "id": "d1TdqUoEB0Co"
      }
    },
    {
      "cell_type": "code",
      "source": [
        "criterion = 'entropy'\n",
        "max_depth = 16\n",
        "max_leaf_nodes = 512\n",
        "\n",
        "treeClassifier = DecisionTreeClassifier(criterion=criterion, max_depth=max_depth, max_leaf_nodes=max_leaf_nodes)\n",
        "treeClassifier.fit(X_train, y_train)\n",
        "\n",
        "treeClassifier.score(X_test, y_test)\n",
        "\n",
        "importances = pd.DataFrame(data={\n",
        "    'Attribute': X_train.columns,\n",
        "    'Importance': treeClassifier.feature_importances_\n",
        "})\n",
        "importances = importances.sort_values(by='Importance', ascending=False)\n",
        "\n",
        "print(importances)"
      ],
      "metadata": {
        "colab": {
          "base_uri": "https://localhost:8080/"
        },
        "id": "3TxI241FB51Y",
        "outputId": "3d8e929e-4370-4812-be22-c762a73b63ec"
      },
      "execution_count": null,
      "outputs": [
        {
          "output_type": "stream",
          "name": "stdout",
          "text": [
            "           Attribute  Importance\n",
            "0         popularity    0.442035\n",
            "1       acousticness    0.132093\n",
            "10       speechiness    0.121803\n",
            "5   instrumentalness    0.087696\n",
            "2       danceability    0.073330\n",
            "8           loudness    0.044832\n",
            "4             energy    0.032285\n",
            "13           valence    0.031790\n",
            "3        duration_ms    0.028879\n",
            "11             tempo    0.002831\n",
            "9               mode    0.001530\n",
            "7           liveness    0.000896\n",
            "6                key    0.000000\n",
            "12    time_signature    0.000000\n"
          ]
        }
      ]
    },
    {
      "cell_type": "code",
      "source": [
        "preds=treeClassifier.predict(X_test)\n",
        "confMatrix = confusion_matrix(y_test, preds)\n",
        "\n",
        "print(classification_report(y_test, preds))\n",
        "\n",
        "# sn.heatmap(confMatrix)\n",
        "# print(pd.DataFrame(confMatrix) )"
      ],
      "metadata": {
        "colab": {
          "base_uri": "https://localhost:8080/"
        },
        "id": "mwYv5HtbpgCS",
        "outputId": "c1c31eac-251a-4395-fe15-95a6ed4c8ac3"
      },
      "execution_count": null,
      "outputs": [
        {
          "output_type": "stream",
          "name": "stdout",
          "text": [
            "              precision    recall  f1-score   support\n",
            "\n",
            " Alternative       0.34      0.26      0.30      1245\n",
            "       Anime       0.54      0.46      0.49      1246\n",
            "       Blues       0.32      0.30      0.31      1245\n",
            "   Classical       0.58      0.59      0.58      1245\n",
            "      Comedy       0.95      0.91      0.93      1245\n",
            "     Country       0.32      0.38      0.35      1245\n",
            "       Dance       0.19      0.20      0.20      1245\n",
            "  Electronic       0.42      0.42      0.42      1246\n",
            "        Folk       0.28      0.32      0.30      1245\n",
            "     Hip-Hop       0.29      0.37      0.33      1245\n",
            "       Indie       0.21      0.14      0.16      1245\n",
            "        Jazz       0.31      0.33      0.32      1245\n",
            "       Movie       0.65      0.53      0.59      1246\n",
            "       Opera       0.69      0.89      0.78      1246\n",
            "         Pop       0.33      0.55      0.41      1245\n",
            "         R&B       0.25      0.23      0.24      1245\n",
            "         Rap       0.27      0.25      0.26      1246\n",
            "      Reggae       0.34      0.25      0.29      1246\n",
            "   Reggaeton       0.42      0.44      0.43      1245\n",
            "        Rock       0.30      0.47      0.37      1245\n",
            "         Ska       0.55      0.43      0.48      1245\n",
            "        Soul       0.22      0.11      0.15      1246\n",
            "  Soundtrack       0.64      0.65      0.65      1245\n",
            "       World       0.44      0.35      0.39      1246\n",
            "\n",
            "    accuracy                           0.41     29888\n",
            "   macro avg       0.41      0.41      0.40     29888\n",
            "weighted avg       0.41      0.41      0.40     29888\n",
            "\n"
          ]
        }
      ]
    },
    {
      "cell_type": "markdown",
      "source": [
        "<hr>\n",
        "\n",
        "# Eliminación de Features poco importantes\n",
        "\n",
        "Se eliminan las features con importancia menor al 0.1%"
      ],
      "metadata": {
        "id": "lsv5wHwKv0pt"
      }
    },
    {
      "cell_type": "code",
      "source": [
        "new_X_train = X_train.drop(columns=['time_signature', 'key', 'liveness', 'mode', 'tempo'])\n",
        "new_X_test = X_test.drop(columns=['time_signature', 'key', 'liveness', 'mode', 'tempo'])"
      ],
      "metadata": {
        "id": "i4QwFzZkwNxE"
      },
      "execution_count": null,
      "outputs": []
    },
    {
      "cell_type": "code",
      "source": [
        "criterion = 'entropy'\n",
        "max_depth = 16\n",
        "max_leaf_nodes = 512\n",
        "\n",
        "treeClassifier = DecisionTreeClassifier(criterion=criterion, max_depth=max_depth, max_leaf_nodes=max_leaf_nodes)\n",
        "treeClassifier.fit(new_X_train, y_train)\n",
        "\n",
        "print(treeClassifier.score(new_X_test, y_test))\n",
        "\n",
        "importances = pd.DataFrame(data={\n",
        "    'Attribute': new_X_train.columns,\n",
        "    'Importance': treeClassifier.feature_importances_\n",
        "})\n",
        "importances = importances.sort_values(by='Importance', ascending=False)\n",
        "\n",
        "print(importances)"
      ],
      "metadata": {
        "colab": {
          "base_uri": "https://localhost:8080/"
        },
        "id": "bYSMp65RwxD8",
        "outputId": "74f609eb-0386-4af9-e159-b5715c972612"
      },
      "execution_count": null,
      "outputs": [
        {
          "output_type": "stream",
          "name": "stdout",
          "text": [
            "0.40892665952890794\n",
            "          Attribute  Importance\n",
            "0        popularity    0.442822\n",
            "1      acousticness    0.133125\n",
            "7       speechiness    0.122828\n",
            "5  instrumentalness    0.088503\n",
            "2      danceability    0.073584\n",
            "6          loudness    0.045116\n",
            "4            energy    0.032745\n",
            "8           valence    0.032118\n",
            "3       duration_ms    0.029159\n"
          ]
        }
      ]
    }
  ]
}